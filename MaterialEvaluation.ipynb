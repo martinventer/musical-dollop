{
 "cells": [
  {
   "cell_type": "markdown",
   "metadata": {},
   "source": [
    "Exploring Material Parameterization"
   ]
  },
  {
   "cell_type": "code",
   "execution_count": 1,
   "metadata": {},
   "outputs": [],
   "source": [
    "from qd.cae.dyna import D3plot\n",
    "from importlib import reload\n",
    "\n",
    "import pandas as pd\n",
    "import numpy as np\n",
    "\n",
    "import Utils\n",
    "import EdaTools\n",
    "\n",
    "# get jupyter to use more of my screen space\n",
    "# from IPython.core.display import display, HTML\n",
    "# display(HTML(\"<style>.container { width:100% !important; }</style>\"))"
   ]
  },
  {
   "cell_type": "code",
   "execution_count": 2,
   "metadata": {},
   "outputs": [],
   "source": [
    "# improve inline plots\n",
    "%matplotlib widget"
   ]
  },
  {
   "cell_type": "markdown",
   "metadata": {},
   "source": [
    "# import the representative D3plot data"
   ]
  },
  {
   "cell_type": "code",
   "execution_count": 3,
   "metadata": {},
   "outputs": [],
   "source": [
    "path = \"/media/martin/Stuff/research/MaterailModels/MM008/\"\n",
    "file = \"MM008_job01.d3plot\"\n",
    "\n",
    "d3plot_HD = D3plot(path + file, read_states=\"disp\")\n",
    "\n",
    "path = \"/media/martin/Stuff/research/MaterailModels/MM007/\"\n",
    "file = \"MM007_job01.d3plot\"\n",
    "\n",
    "d3plot_LD = D3plot(path + file, read_states=\"disp\")"
   ]
  },
  {
   "cell_type": "markdown",
   "metadata": {},
   "source": [
    "# Extract surface nodes"
   ]
  },
  {
   "cell_type": "code",
   "execution_count": 4,
   "metadata": {
    "scrolled": true
   },
   "outputs": [
    {
     "name": "stdout",
     "output_type": "stream",
     "text": [
      "<generator object SurfaceNodeIds.transform at 0x7f8540ac4fc0>\n"
     ]
    }
   ],
   "source": [
    "reload(Utils)\n",
    "\n",
    "surface_node_extractor = Utils.SurfaceNodeIds(threshold=17)\n",
    "node_ids_surface = surface_node_extractor.fit_transform(d3plot_HD)\n",
    "print(node_ids_surface)\n",
    "\n",
    "node_list = list(node_ids_surface)"
   ]
  },
  {
   "cell_type": "markdown",
   "metadata": {},
   "source": [
    "## plot the initial geometry"
   ]
  },
  {
   "cell_type": "code",
   "execution_count": 5,
   "metadata": {},
   "outputs": [
    {
     "name": "stderr",
     "output_type": "stream",
     "text": [
      "/home/martin/anaconda3/envs/musical-dollop/lib/python3.6/site-packages/ipywidgets/widgets/widget.py:412: DeprecationWarning: Passing unrecoginized arguments to super(Canvas).__init__().\n",
      "__init__() missing 1 required positional argument: 'figure'\n",
      "This is deprecated in traitlets 4.2.This error will be raised in a future release of traitlets.\n",
      "  super(Widget, self).__init__(**kwargs)\n",
      "/home/martin/anaconda3/envs/musical-dollop/lib/python3.6/site-packages/ipywidgets/widgets/widget.py:412: DeprecationWarning: Passing unrecoginized arguments to super(Toolbar).__init__().\n",
      "__init__() missing 1 required positional argument: 'canvas'\n",
      "This is deprecated in traitlets 4.2.This error will be raised in a future release of traitlets.\n",
      "  super(Widget, self).__init__(**kwargs)\n"
     ]
    },
    {
     "data": {
      "application/vnd.jupyter.widget-view+json": {
       "model_id": "84d2a4d6175e4de19b4a7fe53118616f",
       "version_major": 2,
       "version_minor": 0
      },
      "text/plain": [
       "Canvas(toolbar=Toolbar(toolitems=[('Home', 'Reset original view', 'home', 'home'), ('Back', 'Back to previous …"
      ]
     },
     "metadata": {},
     "output_type": "display_data"
    }
   ],
   "source": [
    "reload(Utils)\n",
    "reload(EdaTools)\n",
    "%matplotlib widget\n",
    "\n",
    "EdaTools.plot_3d(\n",
    "    Utils.nodes_to_coord_array(\n",
    "        d3plot_HD.get_nodeByID(\n",
    "            node_list)))"
   ]
  },
  {
   "cell_type": "markdown",
   "metadata": {},
   "source": [
    "## plot the final geometry"
   ]
  },
  {
   "cell_type": "code",
   "execution_count": null,
   "metadata": {},
   "outputs": [],
   "source": [
    "reload(Utils)\n",
    "reload(EdaTools)\n",
    "\n",
    "EdaTools.plot_3d(\n",
    "    Utils.nodes_to_coord_array(\n",
    "        d3plot_HD.get_nodeByID(node_list), timestep=-1))"
   ]
  },
  {
   "cell_type": "markdown",
   "metadata": {},
   "source": [
    "## plot displacement vectors"
   ]
  },
  {
   "cell_type": "code",
   "execution_count": null,
   "metadata": {},
   "outputs": [],
   "source": [
    "reload(Utils)\n",
    "reload(EdaTools)\n",
    "\n",
    "EdaTools.plot_disp_quiver(d3plot_HD, node_list=node_list)"
   ]
  },
  {
   "cell_type": "markdown",
   "metadata": {},
   "source": [
    "# Analyze Nodal properties"
   ]
  },
  {
   "cell_type": "code",
   "execution_count": null,
   "metadata": {},
   "outputs": [],
   "source": [
    "reload(Utils)\n",
    "reload(EdaTools)\n",
    "\n",
    "EdaTools.plot_disp_hist(d3plot_HD, time_step=-1, num_bins=30)"
   ]
  },
  {
   "cell_type": "markdown",
   "metadata": {},
   "source": [
    "# Analyze element properties"
   ]
  },
  {
   "cell_type": "markdown",
   "metadata": {},
   "source": [
    "## Element Stress distribution"
   ]
  },
  {
   "cell_type": "code",
   "execution_count": null,
   "metadata": {},
   "outputs": [],
   "source": [
    "reload(Utils)\n",
    "reload(EdaTools)\n",
    "\n",
    "EdaTools.plot_stress_hist(d3plot_HD, time_step=-1, num_bins=50)"
   ]
  },
  {
   "cell_type": "markdown",
   "metadata": {},
   "source": [
    "## Element strain distribution"
   ]
  },
  {
   "cell_type": "code",
   "execution_count": null,
   "metadata": {},
   "outputs": [],
   "source": [
    "reload(Utils)\n",
    "reload(EdaTools)\n",
    "\n",
    "EdaTools.plot_strain_hist(d3plot_HD, time_step=-1, num_bins=50)"
   ]
  },
  {
   "cell_type": "markdown",
   "metadata": {},
   "source": [
    "# Extract 'experimental DIC' results from the HD FEM\n",
    "Extract a portion of the surface nodes to be tracked as if they are DIC data."
   ]
  },
  {
   "cell_type": "code",
   "execution_count": null,
   "metadata": {},
   "outputs": [],
   "source": [
    "reload(Utils)\n",
    "reload(EdaTools)\n",
    "\n",
    "node_ids_dic = Utils.extract_observed_surface(d3plot_HD, time_step=0, eps=0.001)"
   ]
  },
  {
   "cell_type": "code",
   "execution_count": null,
   "metadata": {},
   "outputs": [],
   "source": [
    "EdaTools.plot_3d(\n",
    "    Utils.nodes_to_coord_array(\n",
    "        d3plot_HD.get_nodeByID(node_ids_dic), timestep=0))"
   ]
  },
  {
   "cell_type": "markdown",
   "metadata": {},
   "source": [
    "# Fit a model to the 'DIC' data from the HD FEM\n",
    "* predict u, v, w given x, y, z and time index\n",
    "* construct a longform dataframe containing observations for each timestep\n",
    "* "
   ]
  },
  {
   "cell_type": "code",
   "execution_count": null,
   "metadata": {},
   "outputs": [],
   "source": [
    "# create pandas frame\n",
    "\n",
    "num_time_steps = result_d3plot.get_nTimesteps()\n",
    "\n",
    "data = []\n",
    "\n",
    "# for each node on the observed surface\n",
    "for nid in node_ids_dic:\n",
    "    # Extract the node results\n",
    "    node = result_d3plot.get_nodeByID(nid)\n",
    "    # extract the initial coordinates\n",
    "    cords = node.get_coords()[0]\n",
    "    # for each timestep\n",
    "    for ts, vec in enumerate(node.get_disp()):\n",
    "        # estract the node displacement and create and observation vector\n",
    "        data.append(np.append(cords, [ts, *vec]))\n",
    "\n",
    "data_df = pd.DataFrame(data, columns=[\"x\", \"y\", \"z\", 't_index', \"u\", \"v\", \"w\"])"
   ]
  },
  {
   "cell_type": "code",
   "execution_count": null,
   "metadata": {
    "scrolled": true
   },
   "outputs": [],
   "source": [
    "data_df.head()"
   ]
  },
  {
   "cell_type": "code",
   "execution_count": null,
   "metadata": {},
   "outputs": [],
   "source": [
    "data_df.describe()"
   ]
  },
  {
   "cell_type": "code",
   "execution_count": null,
   "metadata": {},
   "outputs": [],
   "source": [
    "from sklearn import svm\n",
    "X = data_df[[\"x\", \"y\", \"z\", 't_index']]\n",
    "y = data_df[\"u\"]\n",
    "clf = svm.SVR()\n",
    "clf.fit(X, y)"
   ]
  },
  {
   "cell_type": "code",
   "execution_count": null,
   "metadata": {},
   "outputs": [],
   "source": [
    "from sklearn.metrics import r2_score\n",
    "\n",
    "y_pred = clf.predict(X)\n",
    "r2_score(y, y_pred)"
   ]
  },
  {
   "cell_type": "code",
   "execution_count": null,
   "metadata": {},
   "outputs": [],
   "source": [
    "clf.score(X, y)"
   ]
  },
  {
   "cell_type": "markdown",
   "metadata": {},
   "source": [
    "# TODO\n",
    "\n",
    "\n",
    "* Fit a model to this data \n",
    "* create a second model with lower mesh density to represent the simulation \n",
    "* Map the 'DIC' data to the 'FEM' for a best fit.\n"
   ]
  },
  {
   "cell_type": "code",
   "execution_count": null,
   "metadata": {},
   "outputs": [],
   "source": [
    "from scipy.interpolate import Rbf\n",
    "\n",
    "rbf = Rbf(data_df.x, data_df.y, data_df.z, epsilon=2)\n"
   ]
  },
  {
   "cell_type": "code",
   "execution_count": null,
   "metadata": {},
   "outputs": [],
   "source": []
  }
 ],
 "metadata": {
  "kernelspec": {
   "display_name": "Python [conda env:musical-dollop] *",
   "language": "python",
   "name": "conda-env-musical-dollop-py"
  },
  "language_info": {
   "codemirror_mode": {
    "name": "ipython",
    "version": 3
   },
   "file_extension": ".py",
   "mimetype": "text/x-python",
   "name": "python",
   "nbconvert_exporter": "python",
   "pygments_lexer": "ipython3",
   "version": "3.6.9"
  },
  "latex_envs": {
   "LaTeX_envs_menu_present": true,
   "autoclose": false,
   "autocomplete": true,
   "bibliofile": "biblio.bib",
   "cite_by": "apalike",
   "current_citInitial": 1,
   "eqLabelWithNumbers": true,
   "eqNumInitial": 1,
   "hotkeys": {
    "equation": "Ctrl-E",
    "itemize": "Ctrl-I"
   },
   "labels_anchors": false,
   "latex_user_defs": false,
   "report_style_numbering": false,
   "user_envs_cfg": false
  },
  "toc": {
   "base_numbering": 1,
   "nav_menu": {
    "height": "214px",
    "width": "271.333px"
   },
   "number_sections": true,
   "sideBar": true,
   "skip_h1_title": false,
   "title_cell": "Table of Contents",
   "title_sidebar": "Contents",
   "toc_cell": false,
   "toc_position": {},
   "toc_section_display": true,
   "toc_window_display": false
  },
  "varInspector": {
   "cols": {
    "lenName": 16,
    "lenType": 16,
    "lenVar": 40
   },
   "kernels_config": {
    "python": {
     "delete_cmd_postfix": "",
     "delete_cmd_prefix": "del ",
     "library": "var_list.py",
     "varRefreshCmd": "print(var_dic_list())"
    },
    "r": {
     "delete_cmd_postfix": ") ",
     "delete_cmd_prefix": "rm(",
     "library": "var_list.r",
     "varRefreshCmd": "cat(var_dic_list()) "
    }
   },
   "position": {
    "height": "343.85px",
    "left": "905.333px",
    "right": "20px",
    "top": "120px",
    "width": "354.667px"
   },
   "types_to_exclude": [
    "module",
    "function",
    "builtin_function_or_method",
    "instance",
    "_Feature"
   ],
   "window_display": false
  }
 },
 "nbformat": 4,
 "nbformat_minor": 4
}
