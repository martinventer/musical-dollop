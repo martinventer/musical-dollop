{
 "cells": [
  {
   "cell_type": "markdown",
   "metadata": {},
   "source": [
    "# model building pipeline\n",
    "## things to do\n",
    "* read results file."
   ]
  },
  {
   "cell_type": "code",
   "execution_count": 1,
   "metadata": {},
   "outputs": [],
   "source": [
    "from Utils import SimulationTools\n",
    "from Utils import EdaTools\n",
    "from Utils import Utils"
   ]
  },
  {
   "cell_type": "markdown",
   "metadata": {},
   "source": [
    "## setup Parameters"
   ]
  },
  {
   "cell_type": "code",
   "execution_count": 2,
   "metadata": {},
   "outputs": [],
   "source": [
    "new_sim = SimulationTools.PuckSim(\n",
    "    sim_name=\"MM013\", \n",
    "    cfile_template_name='puck_macro_template.msg.cfile', \n",
    "    keyword_main_template_name='mainTemplate.k',\n",
    "    template_dir=None, \n",
    "    sim_dir=\"/media/martin/Stuff/research/MaterailModels\"\n",
    ")"
   ]
  },
  {
   "cell_type": "markdown",
   "metadata": {},
   "source": [
    "## update cfile parameters and make the geometry keyword file"
   ]
  },
  {
   "cell_type": "code",
   "execution_count": 3,
   "metadata": {},
   "outputs": [],
   "source": [
    "new_sim.setup_simulation(\n",
    "    radius=0.01, length=0.012, num_elements=201)"
   ]
  },
  {
   "cell_type": "markdown",
   "metadata": {},
   "source": [
    "## Run lsrun \n",
    "working from cmd\n",
    "/home/martin/Programs/LSTC/LSDYNA/ls-dyna_smp_s_r1010_x64_suse11_pgi165 i=/media/martin/Stuff/research/MaterailModels/MM012/MM012main.k ncpu=8 memory=1000m jobid=MM012_job02"
   ]
  },
  {
   "cell_type": "code",
   "execution_count": null,
   "metadata": {},
   "outputs": [],
   "source": [
    "new_sim.run_simulation()"
   ]
  },
  {
   "cell_type": "code",
   "execution_count": null,
   "metadata": {},
   "outputs": [],
   "source": [
    "print(new_sim.sim_output)"
   ]
  },
  {
   "cell_type": "markdown",
   "metadata": {},
   "source": [
    "## Import existing K.File"
   ]
  },
  {
   "cell_type": "code",
   "execution_count": 4,
   "metadata": {},
   "outputs": [],
   "source": [
    "new_sim.import_geometry_keyword()\n",
    "surf_node_ids = new_sim.get_puck_surface_nodes()"
   ]
  },
  {
   "cell_type": "markdown",
   "metadata": {},
   "source": [
    "## Plot the surface nodes of the original geometry"
   ]
  },
  {
   "cell_type": "code",
   "execution_count": 5,
   "metadata": {},
   "outputs": [
    {
     "name": "stdout",
     "output_type": "stream",
     "text": [
      "Using matplotlib backend: Qt5Agg\n"
     ]
    }
   ],
   "source": [
    "%matplotlib\n",
    "\n",
    "EdaTools.plot_3d(\n",
    "    Utils.nodes_to_coord_array(\n",
    "        new_sim.keyword_geom.get_nodeByID(\n",
    "            surf_node_ids)))"
   ]
  },
  {
   "cell_type": "markdown",
   "metadata": {},
   "source": [
    "## Import the results D3plot"
   ]
  },
  {
   "cell_type": "code",
   "execution_count": 6,
   "metadata": {},
   "outputs": [],
   "source": [
    "new_sim.import_d3plot()"
   ]
  },
  {
   "cell_type": "markdown",
   "metadata": {},
   "source": [
    "### Plot the initial and final geometry from the results file"
   ]
  },
  {
   "cell_type": "code",
   "execution_count": 10,
   "metadata": {},
   "outputs": [],
   "source": [
    "EdaTools.plot_3d(\n",
    "    Utils.nodes_to_coord_array(\n",
    "        new_sim.d3plot.get_nodeByID(\n",
    "            surf_node_ids)))\n",
    "\n",
    "EdaTools.plot_3d(\n",
    "    Utils.nodes_to_coord_array(\n",
    "        new_sim.d3plot.get_nodeByID(\n",
    "            surf_node_ids), timestep=-1))"
   ]
  },
  {
   "cell_type": "markdown",
   "metadata": {},
   "source": [
    "### plot additional info\n"
   ]
  },
  {
   "cell_type": "code",
   "execution_count": 11,
   "metadata": {},
   "outputs": [],
   "source": [
    "#### displacement vectors\n",
    "EdaTools.plot_disp_quiver(new_sim.d3plot, node_list=surf_node_ids)"
   ]
  },
  {
   "cell_type": "code",
   "execution_count": 15,
   "metadata": {},
   "outputs": [],
   "source": [
    "### nodal displacement histograms\n",
    "EdaTools.plot_disp_hist(new_sim.d3plot, time_step=-1, num_bins=20)"
   ]
  },
  {
   "cell_type": "code",
   "execution_count": 16,
   "metadata": {},
   "outputs": [],
   "source": [
    "#### element stress \n",
    "EdaTools.plot_stress_hist(new_sim.d3plot, time_step=-1, num_bins=20)"
   ]
  },
  {
   "cell_type": "code",
   "execution_count": 17,
   "metadata": {},
   "outputs": [],
   "source": [
    "##### element strain\n",
    "EdaTools.plot_strain_hist(new_sim.d3plot, time_step=-1, num_bins=20)"
   ]
  },
  {
   "cell_type": "markdown",
   "metadata": {},
   "source": [
    "# fit a model to the measured displacement field"
   ]
  },
  {
   "cell_type": "markdown",
   "metadata": {},
   "source": [
    "## generate a pandas frame for the data coordinate "
   ]
  },
  {
   "cell_type": "code",
   "execution_count": 29,
   "metadata": {},
   "outputs": [],
   "source": [
    "# create pandas frame\n",
    "import numpy as np\n",
    "import pandas as pd \n",
    "\n",
    "num_time_steps = new_sim.d3plot.get_nTimesteps()\n",
    "\n",
    "data = []\n",
    "\n",
    "# for each node on the observed surface\n",
    "for nid in surf_node_ids:\n",
    "    # Extract the node results\n",
    "    node = new_sim.d3plot.get_nodeByID(nid)\n",
    "    # extract the initial coordinates\n",
    "    cords = node.get_coords()[0]\n",
    "    # for each timestep\n",
    "    for ts, vec in enumerate(node.get_disp()):\n",
    "        # estract the node displacement and create and observation vector\n",
    "        data.append(np.append(cords, [ts, *vec]))\n",
    "\n",
    "data_df = pd.DataFrame(data, columns=[\"x\", \"y\", \"z\", 't_index', \"u\", \"v\", \"w\"])"
   ]
  },
  {
   "cell_type": "code",
   "execution_count": 91,
   "metadata": {},
   "outputs": [
    {
     "data": {
      "text/html": [
       "<div>\n",
       "<style scoped>\n",
       "    .dataframe tbody tr th:only-of-type {\n",
       "        vertical-align: middle;\n",
       "    }\n",
       "\n",
       "    .dataframe tbody tr th {\n",
       "        vertical-align: top;\n",
       "    }\n",
       "\n",
       "    .dataframe thead th {\n",
       "        text-align: right;\n",
       "    }\n",
       "</style>\n",
       "<table border=\"1\" class=\"dataframe\">\n",
       "  <thead>\n",
       "    <tr style=\"text-align: right;\">\n",
       "      <th></th>\n",
       "      <th>x</th>\n",
       "      <th>y</th>\n",
       "      <th>z</th>\n",
       "      <th>t_index</th>\n",
       "      <th>u</th>\n",
       "      <th>v</th>\n",
       "      <th>w</th>\n",
       "    </tr>\n",
       "  </thead>\n",
       "  <tbody>\n",
       "    <tr>\n",
       "      <td>55141</td>\n",
       "      <td>0.012</td>\n",
       "      <td>0.009981</td>\n",
       "      <td>-0.000622</td>\n",
       "      <td>16.0</td>\n",
       "      <td>-0.0016</td>\n",
       "      <td>0.0</td>\n",
       "      <td>0.0</td>\n",
       "    </tr>\n",
       "    <tr>\n",
       "      <td>55142</td>\n",
       "      <td>0.012</td>\n",
       "      <td>0.009981</td>\n",
       "      <td>-0.000622</td>\n",
       "      <td>17.0</td>\n",
       "      <td>-0.0017</td>\n",
       "      <td>0.0</td>\n",
       "      <td>0.0</td>\n",
       "    </tr>\n",
       "    <tr>\n",
       "      <td>55143</td>\n",
       "      <td>0.012</td>\n",
       "      <td>0.009981</td>\n",
       "      <td>-0.000622</td>\n",
       "      <td>18.0</td>\n",
       "      <td>-0.0018</td>\n",
       "      <td>0.0</td>\n",
       "      <td>0.0</td>\n",
       "    </tr>\n",
       "    <tr>\n",
       "      <td>55144</td>\n",
       "      <td>0.012</td>\n",
       "      <td>0.009981</td>\n",
       "      <td>-0.000622</td>\n",
       "      <td>19.0</td>\n",
       "      <td>-0.0019</td>\n",
       "      <td>0.0</td>\n",
       "      <td>0.0</td>\n",
       "    </tr>\n",
       "    <tr>\n",
       "      <td>55145</td>\n",
       "      <td>0.012</td>\n",
       "      <td>0.009981</td>\n",
       "      <td>-0.000622</td>\n",
       "      <td>20.0</td>\n",
       "      <td>-0.0020</td>\n",
       "      <td>0.0</td>\n",
       "      <td>0.0</td>\n",
       "    </tr>\n",
       "  </tbody>\n",
       "</table>\n",
       "</div>"
      ],
      "text/plain": [
       "           x         y         z  t_index       u    v    w\n",
       "55141  0.012  0.009981 -0.000622     16.0 -0.0016  0.0  0.0\n",
       "55142  0.012  0.009981 -0.000622     17.0 -0.0017  0.0  0.0\n",
       "55143  0.012  0.009981 -0.000622     18.0 -0.0018  0.0  0.0\n",
       "55144  0.012  0.009981 -0.000622     19.0 -0.0019  0.0  0.0\n",
       "55145  0.012  0.009981 -0.000622     20.0 -0.0020  0.0  0.0"
      ]
     },
     "execution_count": 91,
     "metadata": {},
     "output_type": "execute_result"
    }
   ],
   "source": [
    "data_df.tail()"
   ]
  },
  {
   "cell_type": "code",
   "execution_count": null,
   "metadata": {},
   "outputs": [],
   "source": [
    "from sklearn.model_selection import RandomizedSearchCV\n",
    "from scipy.stats import uniform\n",
    "from sklearn.svm import SVR"
   ]
  },
  {
   "cell_type": "code",
   "execution_count": 111,
   "metadata": {},
   "outputs": [],
   "source": [
    "X = data_df[[\"x\", \"y\", \"z\", 't_index']]\n",
    "y = data_df[\"u\"]\n",
    "clf = SVR(\n",
    "#     C=1.0,\n",
    "#     degree=3,\n",
    "#     epsilon=0.1,\n",
    "    gamma='scale',\n",
    "    kernel='rbf',\n",
    "    tol=0.00000001\n",
    ")\n",
    "# clf.fit(X, y)"
   ]
  },
  {
   "cell_type": "code",
   "execution_count": 112,
   "metadata": {},
   "outputs": [
    {
     "data": {
      "text/plain": [
       "{'C': 2.195254015709299, 'degree': 4, 'epsilon': 3.3770629943240693}"
      ]
     },
     "execution_count": 112,
     "metadata": {},
     "output_type": "execute_result"
    }
   ],
   "source": [
    "distributions = dict(C=uniform(loc=0, scale=4), degree=[3, 4, 5], epsilon=uniform(loc=0, scale=4))\n",
    "clf = RandomizedSearchCV(\n",
    "    clf, \n",
    "    distributions, \n",
    "    random_state=0, \n",
    "    n_iter= 30, \n",
    "    scoring='explained_variance',\n",
    "    n_jobs=4,\n",
    "    cv=5\n",
    ")\n",
    "search = clf.fit(X, y)\n",
    "search.best_params_"
   ]
  },
  {
   "cell_type": "code",
   "execution_count": 113,
   "metadata": {},
   "outputs": [
    {
     "data": {
      "text/plain": [
       "4.441214217392187e-17"
      ]
     },
     "execution_count": 113,
     "metadata": {},
     "output_type": "execute_result"
    }
   ],
   "source": [
    "search.best_score_\n"
   ]
  },
  {
   "cell_type": "code",
   "execution_count": 114,
   "metadata": {},
   "outputs": [
    {
     "data": {
      "text/plain": [
       "array([-0.001])"
      ]
     },
     "execution_count": 114,
     "metadata": {},
     "output_type": "execute_result"
    }
   ],
   "source": [
    "search.predict([[0.012, 0.009981, 0.000622, 20.0]])"
   ]
  },
  {
   "cell_type": "code",
   "execution_count": 90,
   "metadata": {},
   "outputs": [
    {
     "data": {
      "text/plain": [
       "SVR(C=2.195254015709299, cache_size=200, coef0=0.0, degree=4,\n",
       "    epsilon=3.3770629943240693, gamma='auto', kernel='rbf', max_iter=-1,\n",
       "    shrinking=True, tol=1e-06, verbose=False)"
      ]
     },
     "execution_count": 90,
     "metadata": {},
     "output_type": "execute_result"
    }
   ],
   "source": [
    "search.best_estimator_"
   ]
  },
  {
   "cell_type": "code",
   "execution_count": 115,
   "metadata": {},
   "outputs": [
    {
     "data": {
      "text/plain": [
       "array([-0.001, -0.001, -0.001, ..., -0.001, -0.001, -0.001])"
      ]
     },
     "execution_count": 115,
     "metadata": {},
     "output_type": "execute_result"
    }
   ],
   "source": [
    "search.best_estimator_.predict(X)"
   ]
  },
  {
   "cell_type": "code",
   "execution_count": null,
   "metadata": {},
   "outputs": [],
   "source": []
  }
 ],
 "metadata": {
  "kernelspec": {
   "display_name": "Python [conda env:musical-dollop] *",
   "language": "python",
   "name": "conda-env-musical-dollop-py"
  },
  "language_info": {
   "codemirror_mode": {
    "name": "ipython",
    "version": 3
   },
   "file_extension": ".py",
   "mimetype": "text/x-python",
   "name": "python",
   "nbconvert_exporter": "python",
   "pygments_lexer": "ipython3",
   "version": "3.6.9"
  }
 },
 "nbformat": 4,
 "nbformat_minor": 4
}
