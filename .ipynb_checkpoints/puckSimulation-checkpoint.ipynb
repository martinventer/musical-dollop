{
 "cells": [
  {
   "cell_type": "markdown",
   "metadata": {},
   "source": [
    "# model building pipeline\n",
    "## things to do\n",
    "* parameterise the cfile\n",
    "* generate a .cfile \n",
    "* update main.k\n",
    "* call dyna from puthon on main.k\n",
    "* wait for termination of dyna\n",
    "* read results file."
   ]
  },
  {
   "cell_type": "code",
   "execution_count": 179,
   "metadata": {},
   "outputs": [],
   "source": [
    "import numpy as np\n",
    "import os\n",
    "import subprocess\n",
    "\n",
    "from string import Template\n",
    "from datetime import date, datetime"
   ]
  },
  {
   "cell_type": "markdown",
   "metadata": {},
   "source": [
    "## Parameters"
   ]
  },
  {
   "cell_type": "code",
   "execution_count": 185,
   "metadata": {},
   "outputs": [],
   "source": [
    "sim_name = \"MM012\"\n",
    "lspp_template_name = 'puck_macro_template.msg.cfile'\n",
    "keyword_template_name = 'mainTemplate.k'\n",
    "lspp_macro_name = '{}.msg.cfile'.format(sim_name)\n",
    "k_geom_name = \"{}geom.k\".format(sim_name)\n",
    "k_main_name = \"{}main.k\".format(sim_name)\n",
    "\n",
    "path_root = os.getcwd()\n",
    "path_template_dir = os.path.join(path, \"templates\") \n",
    "path_lspp_template = os.path.join(path_template_dir, lspp_template_name)\n",
    "path_k_main_template = os.path.join(path_template_dir, keyword_template_name)\n",
    "\n",
    "path_simulation_wd = os.path.join(\"/media/martin/Stuff/research/MaterailModels\", sim_name) \n",
    "path_lspp_macro = os.path.join(path_simulation_wd, lspp_macro_name) \n",
    "path_k_geom_file = os.path.join(path_simulation_wd, k_geom_name)\n",
    "path_k_main_file = os.path.join(path_simulation_wd, k_main_name)\n",
    "\n",
    "# macro parameters\n",
    "cylinder_radius = 0.01\n",
    "cylinder_length = 0.012\n",
    "cylinder_elements_NumElem = int(201)\n",
    "\n",
    "cylinder_circumference_lenght_ratio = (cylinder_radius*2*np.pi)/cylinder_length\n",
    "cylinder_elements_Num = int(cylinder_elements_NumElem/cylinder_circumference_lenght_ratio)\n",
    "\n",
    "# k file parameters\n",
    "date_created = date.today()\n",
    "time_created = datetime.now().strftime(\"%H:%M:%S\")\n",
    "title =  \"{} [{}]\".format(sim_name, date_created)\n",
    "date_time = \"{} ({})\".format(date_created, time_created)"
   ]
  },
  {
   "cell_type": "markdown",
   "metadata": {},
   "source": [
    "## check if the folder and files exits "
   ]
  },
  {
   "cell_type": "code",
   "execution_count": 186,
   "metadata": {},
   "outputs": [
    {
     "name": "stdout",
     "output_type": "stream",
     "text": [
      "Directory Exists /home/martin/Documents/RESEARCH/musical-dollop\n",
      "Directory Exists /home/martin/Documents/RESEARCH/musical-dollop/templates\n",
      "Directory Exists /media/martin/Stuff/research/MaterailModels/MM012\n"
     ]
    }
   ],
   "source": [
    "dir_list = [path_root, path_template_dir, path_simulation_wd]\n",
    "\n",
    "for folder in dir_list:\n",
    "#     print(\"{} {}\".format(os.path.exists(folder), folder))\n",
    "    try:\n",
    "        os.mkdir(folder)\n",
    "    except OSError:\n",
    "        print(\"Directory Exists {}\".format(folder))\n",
    "    else:\n",
    "        print(\"Directory Created {}\".format(folder))"
   ]
  },
  {
   "cell_type": "markdown",
   "metadata": {},
   "source": [
    "## update cfile parameters"
   ]
  },
  {
   "cell_type": "code",
   "execution_count": 187,
   "metadata": {},
   "outputs": [],
   "source": [
    "match = {\n",
    "    \"working_directory\": path_simulation_wd,\n",
    "    \"keyword_file_name\": path_k_geom_file}  \n",
    "\n",
    "f = open(path_lspp_template,\"r\")\n",
    "data = f.read() \n",
    "\n",
    "def replace(text, dic):\n",
    "    s = Template(text)\n",
    "    return s.safe_substitute(**dic)\n",
    "\n",
    "data = replace(data, match)\n",
    "# print(data)\n",
    "\n",
    "with open(path_lspp_macro, \"w\") as text_file:\n",
    "    print(data, file=text_file)"
   ]
  },
  {
   "cell_type": "markdown",
   "metadata": {},
   "source": [
    "## Run the macro through lspp"
   ]
  },
  {
   "cell_type": "code",
   "execution_count": 188,
   "metadata": {},
   "outputs": [],
   "source": [
    "bashCommand = \"/home/martin/.local/bin/lspp47 c={} -nographics\".format(path_lspp_macro)\n",
    "\n",
    "process = subprocess.Popen(bashCommand.split(), stdout=subprocess.PIPE)\n",
    "output, error = process.communicate()"
   ]
  },
  {
   "cell_type": "markdown",
   "metadata": {},
   "source": [
    "## Update main.K"
   ]
  },
  {
   "cell_type": "code",
   "execution_count": 190,
   "metadata": {},
   "outputs": [],
   "source": [
    "match = {\n",
    "    \"date_time\": date_time,\n",
    "    \"title\": title,\n",
    "    \"include_file\": path_k_file \n",
    "}  \n",
    "\n",
    "f = open(path_k_main_template,\"r\")\n",
    "data = f.read() \n",
    "\n",
    "def replace(text, dic):\n",
    "    s = Template(text)\n",
    "    return s.safe_substitute(**dic)\n",
    "\n",
    "data = replace(data, match)\n",
    "# print(data)\n",
    "\n",
    "with open(path_k_main_file, \"w\") as text_file:\n",
    "    print(data, file=text_file)"
   ]
  },
  {
   "cell_type": "markdown",
   "metadata": {},
   "source": [
    "## Run lsrun "
   ]
  },
  {
   "cell_type": "code",
   "execution_count": 223,
   "metadata": {},
   "outputs": [],
   "source": [
    "# working from cmd\n",
    "# /home/martin/Programs/LSTC/LSDYNA/ls-dyna_smp_s_r1010_x64_suse11_pgi165 i=/media/martin/Stuff/research/MaterailModels/MM012/MM012main.k ncpu=8 memory=1000m jobid=MM012_job02\n",
    "\n",
    "\n",
    "\n",
    "d = dict(os.environ)\n",
    "d[\"LSTC_LICENSE\"] = 'network'\n",
    "d[\"LSTC_LICENSE_SERVER\"] = '31010@license.sun.ac.za'\n",
    "\n",
    "bashCommand = [\n",
    "    \"/home/martin/Programs/LSTC/LSDYNA/ls-dyna_smp_s_r1010_x64_suse11_pgi165\",\n",
    "    \"i=/media/martin/Stuff/research/MaterailModels/MM012/MM012main.k\",\n",
    "    \"ncpu=8\",\n",
    "    \"memory=1000m\",\n",
    "    \"jobid=/media/martin/Stuff/research/MaterailModels/MM012/MM012_job01\",\n",
    "]\n",
    "\n",
    "process = subprocess.Popen(bashCommand, stdout=subprocess.PIPE, env=d)\n",
    "output, error = process.communicate()"
   ]
  },
  {
   "cell_type": "code",
   "execution_count": 222,
   "metadata": {},
   "outputs": [
    {
     "ename": "AttributeError",
     "evalue": "'_Printer' object has no attribute 'sun'",
     "output_type": "error",
     "traceback": [
      "\u001b[0;31m---------------------------------------------------------------------------\u001b[0m",
      "\u001b[0;31mAttributeError\u001b[0m                            Traceback (most recent call last)",
      "\u001b[0;32m<ipython-input-222-060279c3e436>\u001b[0m in \u001b[0;36m<module>\u001b[0;34m\u001b[0m\n\u001b[0;32m----> 1\u001b[0;31m \u001b[0mstr\u001b[0m\u001b[0;34m(\u001b[0m\u001b[0;36m31010\u001b[0m\u001b[0;34m@\u001b[0m\u001b[0mlicense\u001b[0m\u001b[0;34m.\u001b[0m\u001b[0msun\u001b[0m\u001b[0;34m.\u001b[0m\u001b[0mac\u001b[0m\u001b[0;34m.\u001b[0m\u001b[0mza\u001b[0m\u001b[0;34m)\u001b[0m\u001b[0;34m\u001b[0m\u001b[0;34m\u001b[0m\u001b[0m\n\u001b[0m",
      "\u001b[0;31mAttributeError\u001b[0m: '_Printer' object has no attribute 'sun'"
     ]
    }
   ],
   "source": [
    "str(31010@license.sun.ac.za)"
   ]
  },
  {
   "cell_type": "code",
   "execution_count": 224,
   "metadata": {},
   "outputs": [
    {
     "data": {
      "text/plain": [
       "b' License option : check network license only\\n      Date: 11/13/2019      Time: 17:45:25  \\n\\n     ___________________________________________________\\n     |                                                 |\\n     |  Livermore  Software  Technology  Corporation   |\\n     |                                                 |\\n     |  7374 Las Positas Road                          |\\n     |  Livermore, CA 94551                            |\\n     |  Tel: (925) 449-2500  Fax: (925) 449-2507       |\\n     |  www.lstc.com                                   |\\n     |_________________________________________________|\\n     |                                                 |\\n     |  LS-DYNA, A Program for Nonlinear Dynamic       |\\n     |  Analysis of Structures in Three Dimensions     |\\n     |  Version : smp s R10.1.0   Date: 01/12/2018     |\\n     |  Revision: 123264          Time: 16:34:46       |\\n     |                                                 |\\n     |  Features enabled in this version:              |\\n     |    Shared Memory Parallel                       |\\n     |    FFTW (multi-dimensional FFTW Library)        |\\n     |    Interactive Graphics                         |\\n     |    ANSYS Database format                        |\\n     |    MADYMO indirect coupling (7.2 or higher)     |\\n     |                                                 |\\n     |  Licensed to: Stellenbosch University - 1409    |\\n     |  Issued by  : LSTC_01142019                     |\\n     |                                                 |\\n     |  Platform   : AMD64 System                      |\\n     |  OS Level   : Linux 3.0.51 ulm                  |\\n     |  Compiler   : PGI pgf90 16.5-0                  |\\n     |  Hostname   : martin-Blade                      |\\n     |  Precision  : Single precision (I4R4)           |\\n     |  SVN Version: 123300                            |\\n     |                                                 |\\n     |  Unauthorized use infringes LSTC copyrights     |\\n     |_________________________________________________|\\n\\n >jobid=/media/martin/Stuff/research/MaterailModels/MM012/MM012_job01 i=/m\\n >edia/martin/Stuff/research/MaterailModels/MM012/MM012main.k ncpu=8 memor\\n >y=1000m\\n\\n Executing with LSTC network license\\n\\n Input file: /media/martin/Stuff/research/MaterailModels/MM012/MM012main.k                   \\n\\n The native file format       : 32-bit small endian\\n Memory size from command line:  1000000000\\n JOBID                        : /media/martin/Stuff/research/MaterailModels/MM012/MM012_job01\\n\\n on UNIX computers note the following change:\\n\\n ctrl-c interrupts ls-dyna and prompts for a sense  switch.\\n type the desired sense switch: sw1., sw2., etc. to continue\\n the execution.  ls-dyna will respond as explained in the users manual\\n\\n    type                      response\\n   -----   ------------------------------------------------------------\\n   quit    ls-dyna terminates.\\n   stop    ls-dyna terminates.\\n   sw1.    a restart file is written and ls-dyna terminates.\\n   sw2.    ls-dyna responds with time and cycle numbers.    \\n   sw3.    a restart file is written and ls-dyna continues calculations.\\n   sw4.    a plot state is written and ls-dyna continues calculations.\\n   sw5.    ls-dyna enters interactive graphics phase.\\n   swa.    ls-dyna flushes all output i/o buffers.\\n   lpri    toggle implicit lin. alg. solver output on/off.\\n   nlpr    toggle implicit nonlinear solver output on/off.\\n   iter    toggle implicit output to d3iter database on/off.\\n   prof    output timing data to messag and continue.\\n   conv    force implicit nonlinear convergence for current time step.\\n   ttrm    terminate implicit time step, reduce time step, retry time step.\\n   rtrm    terminate implicit at end of current time step.\\n\\n\\n ********  notice  ********  notice  ********  notice  ********\\n *                                                            *\\n * This is the LS-DYNA Finite Element code.                   *\\n *                                                            *\\n * Neither LSTC nor the authors assume any responsibility for *\\n * the validity, accuracy, or applicability of any results    *\\n * obtained from this system. Users must verify their own     *\\n * results.                                                   *\\n *                                                            *\\n * LSTC endeavors to make the LS-DYNA code as complete,       *\\n * accurate and easy to use as possible.                      *\\n * Suggestions and comments are welcomed.  Please report any  *\\n * errors encountered in either the documentation or results  *\\n * immediately to LSTC through your site focus.               *\\n *                                                            *\\n * Copyright (C) 1990-2018                                    *\\n * by Livermore Software Technology Corp. (LSTC)              *\\n * All rights reserved                                        *\\n *                                                            *\\n ********  notice  ********  notice  ********  notice  ********\\n\\n Beginning of keyword reader                                   11/13/19 17:45:30\\n\\n Open include file: /media/martin/Stuff/research/MaterailModels/MM012/MM012.k\\n \\n *** Error 70057 (OTH+57)\\n     can not open file on unit 56 iostat= 2\\n .//media/martin/Stuff/research/MaterailModels/MM012/MM012_job01.adptmp\\n\\n Memory required to process keyword     :     1707918 \\n \\n *** Error 70057 (OTH+57)\\n     can not open file on unit 1 iostat= 2\\n .//media/martin/Stuff/research/MaterailModels/MM012/MM012_job01.adptmp\\n \\n *** Error 20680 (STR+680)\\n     unexpected end-of-file\\n E r r o r   t e r m i n a t i o n\\n'"
      ]
     },
     "execution_count": 224,
     "metadata": {},
     "output_type": "execute_result"
    }
   ],
   "source": [
    "output"
   ]
  },
  {
   "cell_type": "code",
   "execution_count": null,
   "metadata": {},
   "outputs": [],
   "source": []
  }
 ],
 "metadata": {
  "kernelspec": {
   "display_name": "Python [conda env:musical-dollop] *",
   "language": "python",
   "name": "conda-env-musical-dollop-py"
  },
  "language_info": {
   "codemirror_mode": {
    "name": "ipython",
    "version": 3
   },
   "file_extension": ".py",
   "mimetype": "text/x-python",
   "name": "python",
   "nbconvert_exporter": "python",
   "pygments_lexer": "ipython3",
   "version": "3.6.9"
  }
 },
 "nbformat": 4,
 "nbformat_minor": 4
}
